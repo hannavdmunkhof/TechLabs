{
  "nbformat": 4,
  "nbformat_minor": 0,
  "metadata": {
    "kernelspec": {
      "display_name": "Python 3",
      "language": "python",
      "name": "python3"
    },
    "language_info": {
      "codemirror_mode": {
        "name": "ipython",
        "version": 3
      },
      "file_extension": ".py",
      "mimetype": "text/x-python",
      "name": "python",
      "nbconvert_exporter": "python",
      "pygments_lexer": "ipython3",
      "version": "3.8.10"
    },
    "colab": {
      "provenance": []
    }
  },
  "cells": [
    {
      "cell_type": "code",
      "metadata": {
        "id": "Yzvs3pZ3ck3f",
        "outputId": "962222c6-1801-4cc2-cebd-38d505f942bb"
      },
      "source": [
        "%cd mgh/data"
      ],
      "execution_count": null,
      "outputs": [
        {
          "name": "stdout",
          "output_type": "stream",
          "text": [
            "[Errno 2] No such file or directory: 'mgh/data'\n",
            "/home/rene/notebooks/mgh/data\n"
          ]
        }
      ]
    },
    {
      "cell_type": "markdown",
      "metadata": {
        "id": "zQH2MZQUck3k"
      },
      "source": [
        "### Control coefficients"
      ]
    },
    {
      "cell_type": "code",
      "metadata": {
        "id": "y963AmZZck3n"
      },
      "source": [
        "DEBUG=True # To control debug msg during training\n",
        "PRINT=True\n",
        "\n",
        "DELTA_FEATURES=False # Create delta features in the dataset (delta of one feature between two timepoints)\n",
        "STANDARD_SCALE=False # Use a StandardScaler for normalizing the feature\n",
        "\n",
        "MAX_TRIALS = 75 # How many hyperopt tuples to test before deciding the (locally) optimal one\n",
        "\n",
        "Y_INTEREST = [\"CFuture\" + str(_) for _ in range(1,5)] # The CFutures we're interested in"
      ],
      "execution_count": null,
      "outputs": []
    },
    {
      "cell_type": "markdown",
      "metadata": {
        "id": "U600HoQYck3p"
      },
      "source": [
        "### Imports & IPython Settings"
      ]
    },
    {
      "cell_type": "code",
      "metadata": {
        "id": "wVzqANWlck3r"
      },
      "source": [
        "import numpy as np\n",
        "import pandas as pd\n",
        "from hyperopt import Trials, STATUS_OK, tpe, hp, fmin, space_eval\n",
        "from hyperopt.mongoexp import MongoTrials\n",
        "\n",
        "import matplotlib.pyplot as plt\n",
        "import seaborn as sns\n",
        "from datetime import datetime, timedelta\n",
        "from sklearn.linear_model import LinearRegression\n",
        "import warnings\n",
        "warnings.filterwarnings('ignore')\n",
        "import xgboost as xgb\n",
        "from sklearn.model_selection import train_test_split\n",
        "from sklearn.model_selection import GridSearchCV\n",
        "from sklearn.metrics import mean_squared_error, mean_absolute_error, mean_absolute_percentage_error\n",
        "import sklearn.neighbors\n",
        "from xgboost import XGBRegressor"
      ],
      "execution_count": null,
      "outputs": []
    },
    {
      "cell_type": "code",
      "metadata": {
        "id": "9fWrvA3Pck3s"
      },
      "source": [
        "%matplotlib inline"
      ],
      "execution_count": null,
      "outputs": []
    },
    {
      "cell_type": "markdown",
      "metadata": {
        "id": "4Z47fwoock3t"
      },
      "source": [
        "### Global helper functions"
      ]
    },
    {
      "cell_type": "code",
      "metadata": {
        "id": "rqpjU4Fhck3u"
      },
      "source": [
        "import math\n",
        "def plot_trend(classifier, X_test, y_test_, model, split, lbl):\n",
        "    yhat = classifier.predict(X_test)\n",
        "    mape = mean_absolute_percentage_error(y_test_,yhat)\n",
        "    rmse = math.sqrt(mean_squared_error(y_test_, yhat))\n",
        "    fig = plt.figure(figsize=(15,8))\n",
        "    plt.plot(y_test_, label='Expected')\n",
        "    plt.plot(yhat, label='Predicted')\n",
        "    plt.legend()\n",
        "    plt.title(f'RMSE: {np.round(rmse,4)}, MAPE: {np.round(mape,4)}')\n",
        "    plt.gca().set_xlabel(\"Days\")\n",
        "    plt.gca().set_ylabel(lbl)\n",
        "    plt.gcf().set_figwidth(7)\n",
        "    plt.gcf().set_figheight(4)\n",
        "    fig.savefig(model + '_' + lbl + '_split_' + str(split) + '.pdf')\n",
        "    return plt"
      ],
      "execution_count": null,
      "outputs": []
    },
    {
      "cell_type": "markdown",
      "metadata": {
        "id": "WG-AkhqBck3w"
      },
      "source": [
        "### Preprocessing, Metrics & Objective Functions"
      ]
    },
    {
      "cell_type": "code",
      "metadata": {
        "id": "mZVyX5TLck3x"
      },
      "source": [
        "def metric_mape(estimator, X, y): #ypred, dtest):\n",
        "   labels = estimator.predict(X)\n",
        "   return mean_absolute_percentage_error(labels,y) #np.mean(np.abs((labels - y) / labels) * 100) #('MAPE (%)', )\n",
        "def metric_mse(estimator, X, y): #ypred, dtest):\n",
        "   labels = estimator.predict(X)\n",
        "   return mean_squared_error(labels, y)"
      ],
      "execution_count": null,
      "outputs": []
    },
    {
      "cell_type": "code",
      "metadata": {
        "id": "UvK3IZQGck3x"
      },
      "source": [
        "def preprocess(X_train, transformers):\n",
        "    X_train = X_train.copy()\n",
        "    scaler = transformers.get(\"sscaler\", None)\n",
        "    if DELTA_FEATURES:\n",
        "        deltas_ = X_train.loc[:, [_ for _ in X_train.columns if not _ in exclude]].rolling(window=2).apply(lambda x: x.iloc[1] - x.iloc[0])\n",
        "        for _ in range(DELTA_FEATURES - 1):\n",
        "            X_train = pd.concat([X_train, deltas_.fillna(method=\"backfill\")], axis=1)\n",
        "            deltas_ = deltas_.rolling(window=2).apply(lambda x: x.iloc[1] - x.iloc[0])\n",
        "        X_train = pd.concat([X_train, deltas_.fillna(method=\"backfill\")], axis=1)\n",
        "\n",
        "    if STANDARD_SCALE:\n",
        "        exclude = [\"YearDayNum\"]\n",
        "        if not scaler:\n",
        "            scaler = sklearn.preprocessing.StandardScaler()\n",
        "            X_train.loc[:, [_ for _ in X_train.columns if not _ in exclude]] = scaler.fit_transform(X_train.loc[:, [_ for _ in X_train.columns if not _ in exclude]])\n",
        "        else:\n",
        "            X_train.loc[:, [_ for _ in X_train.columns if not _ in exclude]] = scaler.transform(X_train.loc[:, [_ for _ in X_train.columns if not _ in exclude]])\n",
        "\n",
        "    return X_train, {'sscaler' : scaler}"
      ],
      "execution_count": null,
      "outputs": []
    },
    {
      "cell_type": "code",
      "metadata": {
        "id": "7ZK9-hSTsUpq"
      },
      "source": [
        "def custom_cv_2folds(X_train, X_valid):\n",
        "    ntrain = X_train.shape[0]\n",
        "    nvalid = X_valid.shape[0]\n",
        "    #print('Training samples: '+str(ntrain)+'\\n')\n",
        "    #print('Validation samples: '+str(nvalid)+'\\n')\n",
        "\n",
        "    idx_train = np.arange(0, ntrain, dtype=int)\n",
        "    idx_valid = np.arange(ntrain, ntrain+nvalid, dtype=int)\n",
        "    yield idx_train, idx_valid"
      ],
      "execution_count": null,
      "outputs": []
    },
    {
      "cell_type": "code",
      "metadata": {
        "id": "TMDGP7e6ck3z"
      },
      "source": [
        "def xgb_objective(space):\n",
        "    classifier = xgb.XGBRegressor(n_estimators = space['n_estimators'],\n",
        "                            max_depth = int(space['max_depth']),\n",
        "                            learning_rate = space['learning_rate'],\n",
        "                            gamma = space['gamma'],\n",
        "                            min_child_weight = space['min_child_weight'],\n",
        "                            subsample = space['subsample'],\n",
        "                            colsample_bytree = space['colsample_bytree']\n",
        "                            )\n",
        "    #classifier.fit(X_train, y_train_)\n",
        "    X_train_valid = np.concatenate([X_train,X_valid])\n",
        "    y_train_valid_ = np.concatenate([y_train_,y_valid_])\n",
        "    # Applying k-Fold Cross Validation\n",
        "    from sklearn.model_selection import cross_val_score\n",
        "    accuracies = cross_val_score(estimator = classifier, X = X_train_valid, y = y_train_valid_, cv=custom_cv_2folds(X_train, X_valid), scoring=metric_mape)\n",
        "    CrossValMean = accuracies.mean()\n",
        "\n",
        "    return{'loss':CrossValMean, 'status': STATUS_OK }"
      ],
      "execution_count": null,
      "outputs": []
    },
    {
      "cell_type": "code",
      "metadata": {
        "id": "byAB7Igrck30"
      },
      "source": [
        "def linear_regression_objective(space):\n",
        "    classifier = sklearn.linear_model.LinearRegression(**space)\n",
        "    #classifier.fit(X_train, y_train_)\n",
        "\n",
        "    # Applying k-Fold Cross Validation\n",
        "    from sklearn.model_selection import cross_val_score\n",
        "    accuracies = cross_val_score(estimator = classifier, X = X_train, y = y_train_, cv=sklearn.model_selection.TimeSeriesSplit(n_splits=3).split(X_train), scoring=metric_mape)\n",
        "    CrossValMean = accuracies.mean()\n",
        "\n",
        "    return{'loss':CrossValMean, 'status': STATUS_OK }"
      ],
      "execution_count": null,
      "outputs": []
    },
    {
      "cell_type": "code",
      "metadata": {
        "id": "atZoA6HZck31"
      },
      "source": [
        "def kneighbour_objective(space):\n",
        "    classifier = sklearn.neighbors.KNeighborsRegressor(**space)\n",
        "    #classifier.fit(X_train, y_train_)\n",
        "\n",
        "    # Applying k-Fold Cross Validation\n",
        "    from sklearn.model_selection import cross_val_score\n",
        "    accuracies = cross_val_score(estimator = classifier, X = X_train, y = y_train_, cv=sklearn.model_selection.TimeSeriesSplit(n_splits=3).split(X_train), scoring=metric_mape)\n",
        "    CrossValMean = accuracies.mean()\n",
        "\n",
        "    return {'loss':CrossValMean, 'status': STATUS_OK }"
      ],
      "execution_count": null,
      "outputs": []
    },
    {
      "cell_type": "code",
      "metadata": {
        "id": "7lH6L26tck31"
      },
      "source": [
        "def lin_svr_objective(space):\n",
        "    classifier = sklearn.svm.SVR(**space)\n",
        "    #classifier.fit(X_train, y_train_)\n",
        "\n",
        "    # Applying k-Fold Cross Validation\n",
        "    from sklearn.model_selection import cross_val_score\n",
        "    accuracies = cross_val_score(estimator = classifier, X = X_train, y = y_train_, cv=sklearn.model_selection.TimeSeriesSplit(n_splits=3).split(X_train), scoring=metric_mape)\n",
        "    CrossValMean = accuracies.mean()\n",
        "\n",
        "    return {'loss':CrossValMean, 'status': STATUS_OK }"
      ],
      "execution_count": null,
      "outputs": []
    },
    {
      "cell_type": "code",
      "metadata": {
        "id": "lbY6heDYck32"
      },
      "source": [
        "#kernel='', degree=3, gamma='scale', coef0=0.0, tol=0.001, C=1.0, epsilon=0.1, shrinking=True, cache_size=200, verbose=False, max_iter=- 1"
      ],
      "execution_count": null,
      "outputs": []
    },
    {
      "cell_type": "code",
      "metadata": {
        "id": "UrVvTXR7ck32"
      },
      "source": [
        "import time\n",
        "def fit_evaluate_regressor(archi, X_, y_, Xt_, yt_, results={}, exp=\"exp1\"):\n",
        "    def trialme(objective, space):\n",
        "        trials = Trials() #MongoTrials('mongo://localhost:27017/mgh_db/jobs', exp_key=exp)\n",
        "\n",
        "        best = fmin(fn=objective,\n",
        "                    space=space,\n",
        "                    algo=tpe.suggest,\n",
        "                    max_evals=MAX_TRIALS,\n",
        "                    trials=trials)\n",
        "        #print(\"Best: \", best)\n",
        "        return [space_eval(space, best), trials]\n",
        "\n",
        "    timee = time.time()\n",
        "    obj_func = globals()[archi + \"_objective\"]\n",
        "\n",
        "    if archi == \"lin_svr\":\n",
        "        space = {\n",
        "            'C': hp.uniform('C', 0, 20),\n",
        "            'kernel': hp.choice('kernel', ['linear', 'sigmoid', 'poly', 'rbf']),\n",
        "            'gamma': hp.choice('gamma', [\"scale\", \"auto\"]),\n",
        "            'degree': hp.choice('degree', range(2,5)),\n",
        "            'C': hp.uniform('C',0, 100),\n",
        "            'coef0': hp.uniform('coef0',0, 100),\n",
        "        }\n",
        "        classifier = sklearn.svm.SVR\n",
        "\n",
        "    elif archi == \"kneighbour\":\n",
        "        space = {\n",
        "            'n_neighbors': hp.quniform('n_neighbors',1,100,1), #hp.choice('n_neighbors', range(1,50)),\n",
        "            'weights': hp.choice('weights',['uniform','distance']),\n",
        "            'algorithm': hp.choice('algorithm',['auto', 'ball_tree', 'kd_tree', 'brute']),\n",
        "            'leaf_size': hp.quniform('leaf_size',1,50,1),\n",
        "            'metric': hp.choice('metric',['minkowski','mahalanobis','chebyshev','seuclidean']),\n",
        "            'p': hp.quniform('p',1,15,1),\n",
        "        }\n",
        "        classifier = sklearn.neighbors.KNeighborsRegressor\n",
        "\n",
        "    elif archi == \"linear_regression\":\n",
        "        space = {\n",
        "            'fit_intercept' : hp.choice('fit_intercept', [True, False]),\n",
        "            'normalize' : hp.choice('normalize', [True, False]) }\n",
        "\n",
        "        # Fitting XGBoost to the Training set\n",
        "        classifier = sklearn.linear_model.LinearRegression\n",
        "\n",
        "    elif archi == \"xgb\":\n",
        "        space = {\n",
        "            'max_depth' : hp.choice('max_depth', range(3, 5, 1)),\n",
        "            'learning_rate' : hp.quniform('learning_rate', 0.01, 0.5, 0.01),\n",
        "            'n_estimators' : hp.choice('n_estimators', range(20, 70, 10)),\n",
        "            'gamma' : hp.quniform('gamma', 0, 0.50, 0.01),\n",
        "            'min_child_weight' : hp.quniform('min_child_weight', 1, 10, 1),\n",
        "            'subsample' : hp.quniform('subsample', 0.1, 1, 0.01),\n",
        "            'colsample_bytree' : hp.quniform('colsample_bytree', 0.1, 1.0, 0.01)}\n",
        "\n",
        "        # Fitting XGBoost to the Training set\n",
        "        classifier = XGBRegressor\n",
        "\n",
        "\n",
        "    results[archi] = trialme(obj_func, space)\n",
        "    classifier = classifier(**results[archi][0])\n",
        "    classifier.fit(X_, y_)\n",
        "\n",
        "    mape = metric_mape(classifier, Xt_, yt_)\n",
        "    mse = metric_mse(classifier, Xt_, yt_)\n",
        "\n",
        "    results[archi].extend([classifier, mape, mse])\n",
        "    print(archi, \":\", \"MSE:\", mse, \"MAPE:\", mape)\n",
        "    print(archi, \"took\", time.time() - timee, \"seconds.\")"
      ],
      "execution_count": null,
      "outputs": []
    },
    {
      "cell_type": "markdown",
      "metadata": {
        "id": "J0f94ihUck33"
      },
      "source": [
        "### Data Import, Preprocessing & Model Training"
      ]
    },
    {
      "cell_type": "code",
      "metadata": {
        "id": "JKlWElorck33"
      },
      "source": [
        "X_train, y_train, X_test, y_test = None, None, None, None\n",
        "y_train_ = None\n",
        "y_test_ = None"
      ],
      "execution_count": null,
      "outputs": []
    },
    {
      "cell_type": "code",
      "metadata": {
        "colab": {
          "base_uri": "https://localhost:8080/"
        },
        "id": "sQs8cE04ck34",
        "outputId": "2b3895b2-02f5-4d3a-94e5-d4f5e2693561"
      },
      "source": [
        "# import the data (all features)\n",
        "split = 4\n",
        "X_train = pd.read_csv('X_train_wf_split_'+str(split)+'.csv'); X_test = pd.read_csv('X_test_wf_split_'+str(split)+'.csv');\n",
        "X_valid = pd.read_csv('X_valid_wf_split_'+str(split)+'.csv')\n",
        "y_train = pd.read_csv('y_train_wf_split_'+str(split)+'.csv'); y_test = pd.read_csv('y_test_wf_split_'+str(split)+'.csv');\n",
        "y_valid = pd.read_csv('y_valid_wf_split_'+str(split)+'.csv')\n",
        "print(['Size train set: ',len(X_train)]);\n",
        "print(['Size test set: ',len(X_test)]);\n",
        "#X_train.head()"
      ],
      "execution_count": null,
      "outputs": [
        {
          "output_type": "stream",
          "name": "stdout",
          "text": [
            "['Size train set: ', 229]\n",
            "['Size test set: ', 56]\n"
          ]
        }
      ]
    },
    {
      "cell_type": "code",
      "metadata": {
        "id": "mRzOS_Xhck34"
      },
      "source": [
        "X_train= X_train.infer_objects()\n",
        "X_test = X_test.infer_objects()\n",
        "X_valid = X_valid.infer_objects()"
      ],
      "execution_count": null,
      "outputs": []
    },
    {
      "cell_type": "code",
      "metadata": {
        "id": "Ms-We5mxck34"
      },
      "source": [
        "X_train, transformers = preprocess(X_train, {})\n",
        "X_valid, _ = preprocess(X_valid, transformers)\n",
        "X_test, _ = preprocess(X_test, transformers)"
      ],
      "execution_count": null,
      "outputs": []
    },
    {
      "cell_type": "code",
      "metadata": {
        "colab": {
          "base_uri": "https://localhost:8080/"
        },
        "id": "cPkb8Gmtck35",
        "outputId": "f3145563-7cdf-429d-cd6b-2304b580c3d7"
      },
      "source": [
        "# hyperparam opt - evaluate on CV set and print MAPE/RMSE using best settings on CV set\n",
        "warnings.filterwarnings(action= 'ignore')\n",
        "archis = [ \"xgb\", \"kneighbour\", \"linear_regression\", \"lin_svr\"]\n",
        "#archis = [ \"lin_svr\"]\n",
        "archis = [\"xgb\"] #[ \"kneighbour\", \"linear_regression\", \"xgb\"]#, \"xgb\"]\n",
        "\n",
        "all_results = {}\n",
        "for _y in Y_INTEREST:\n",
        "    y_train_ = y_train[_y].values\n",
        "    y_valid_ = y_valid[_y].values\n",
        "    all_results[_y] = {}\n",
        "    print(\"============= %s =============\" % _y)\n",
        "    for _archi in archis:\n",
        "        print(\"##\",_archi,\"::\")\n",
        "        results = {}\n",
        "        #fit_evaluate_regressor(archi, X_, y_, Xt_, yt_, results={}, exp=\"exp1\"):\n",
        "        fit_evaluate_regressor(_archi, X_train, y_train_, X_valid, y_valid_, results=results, exp=_y + \"_exp9\" + (\"_\" + _archi if _archi != \"xgb\" else \"\"))\n",
        "        all_results[_y].update(results)\n",
        "    print(\"\")\n",
        "    print(\"\")"
      ],
      "execution_count": null,
      "outputs": [
        {
          "output_type": "stream",
          "name": "stdout",
          "text": [
            "============= CFuture1 =============\n",
            "## xgb ::\n",
            "[22:43:51] WARNING: /workspace/src/objective/regression_obj.cu:152: reg:linear is now deprecated in favor of reg:squarederror.\n",
            "[22:43:51] WARNING: /workspace/src/objective/regression_obj.cu:152: reg:linear is now deprecated in favor of reg:squarederror.\n",
            "[22:43:51] WARNING: /workspace/src/objective/regression_obj.cu:152: reg:linear is now deprecated in favor of reg:squarederror.\n",
            "[22:43:51] WARNING: /workspace/src/objective/regression_obj.cu:152: reg:linear is now deprecated in favor of reg:squarederror.\n",
            "[22:43:51] WARNING: /workspace/src/objective/regression_obj.cu:152: reg:linear is now deprecated in favor of reg:squarederror.\n",
            "[22:43:51] WARNING: /workspace/src/objective/regression_obj.cu:152: reg:linear is now deprecated in favor of reg:squarederror.\n",
            "[22:43:51] WARNING: /workspace/src/objective/regression_obj.cu:152: reg:linear is now deprecated in favor of reg:squarederror.\n",
            "[22:43:51] WARNING: /workspace/src/objective/regression_obj.cu:152: reg:linear is now deprecated in favor of reg:squarederror.\n",
            "[22:43:51] WARNING: /workspace/src/objective/regression_obj.cu:152: reg:linear is now deprecated in favor of reg:squarederror.\n",
            "[22:43:51] WARNING: /workspace/src/objective/regression_obj.cu:152: reg:linear is now deprecated in favor of reg:squarederror.\n",
            "[22:43:51] WARNING: /workspace/src/objective/regression_obj.cu:152: reg:linear is now deprecated in favor of reg:squarederror.\n",
            "[22:43:51] WARNING: /workspace/src/objective/regression_obj.cu:152: reg:linear is now deprecated in favor of reg:squarederror.\n",
            "[22:43:52] WARNING: /workspace/src/objective/regression_obj.cu:152: reg:linear is now deprecated in favor of reg:squarederror.\n",
            "[22:43:52] WARNING: /workspace/src/objective/regression_obj.cu:152: reg:linear is now deprecated in favor of reg:squarederror.\n",
            "[22:43:52] WARNING: /workspace/src/objective/regression_obj.cu:152: reg:linear is now deprecated in favor of reg:squarederror.\n",
            "[22:43:52] WARNING: /workspace/src/objective/regression_obj.cu:152: reg:linear is now deprecated in favor of reg:squarederror.\n",
            "[22:43:52] WARNING: /workspace/src/objective/regression_obj.cu:152: reg:linear is now deprecated in favor of reg:squarederror.\n",
            "[22:43:52] WARNING: /workspace/src/objective/regression_obj.cu:152: reg:linear is now deprecated in favor of reg:squarederror.\n",
            "[22:43:52] WARNING: /workspace/src/objective/regression_obj.cu:152: reg:linear is now deprecated in favor of reg:squarederror.\n",
            "[22:43:52] WARNING: /workspace/src/objective/regression_obj.cu:152: reg:linear is now deprecated in favor of reg:squarederror.\n",
            "[22:43:52] WARNING: /workspace/src/objective/regression_obj.cu:152: reg:linear is now deprecated in favor of reg:squarederror.\n",
            "[22:43:52] WARNING: /workspace/src/objective/regression_obj.cu:152: reg:linear is now deprecated in favor of reg:squarederror.\n",
            "[22:43:52] WARNING: /workspace/src/objective/regression_obj.cu:152: reg:linear is now deprecated in favor of reg:squarederror.\n",
            "[22:43:52] WARNING: /workspace/src/objective/regression_obj.cu:152: reg:linear is now deprecated in favor of reg:squarederror.\n",
            "[22:43:52] WARNING: /workspace/src/objective/regression_obj.cu:152: reg:linear is now deprecated in favor of reg:squarederror.\n",
            "[22:43:52] WARNING: /workspace/src/objective/regression_obj.cu:152: reg:linear is now deprecated in favor of reg:squarederror.\n",
            "[22:43:52] WARNING: /workspace/src/objective/regression_obj.cu:152: reg:linear is now deprecated in favor of reg:squarederror.\n",
            "[22:43:52] WARNING: /workspace/src/objective/regression_obj.cu:152: reg:linear is now deprecated in favor of reg:squarederror.\n",
            "[22:43:52] WARNING: /workspace/src/objective/regression_obj.cu:152: reg:linear is now deprecated in favor of reg:squarederror.\n",
            "[22:43:52] WARNING: /workspace/src/objective/regression_obj.cu:152: reg:linear is now deprecated in favor of reg:squarederror.\n",
            "[22:43:52] WARNING: /workspace/src/objective/regression_obj.cu:152: reg:linear is now deprecated in favor of reg:squarederror.\n",
            "[22:43:53] WARNING: /workspace/src/objective/regression_obj.cu:152: reg:linear is now deprecated in favor of reg:squarederror.\n",
            "[22:43:53] WARNING: /workspace/src/objective/regression_obj.cu:152: reg:linear is now deprecated in favor of reg:squarederror.\n",
            "[22:43:53] WARNING: /workspace/src/objective/regression_obj.cu:152: reg:linear is now deprecated in favor of reg:squarederror.\n",
            "[22:43:53] WARNING: /workspace/src/objective/regression_obj.cu:152: reg:linear is now deprecated in favor of reg:squarederror.\n",
            "[22:43:53] WARNING: /workspace/src/objective/regression_obj.cu:152: reg:linear is now deprecated in favor of reg:squarederror.\n",
            "[22:43:53] WARNING: /workspace/src/objective/regression_obj.cu:152: reg:linear is now deprecated in favor of reg:squarederror.\n",
            "[22:43:53] WARNING: /workspace/src/objective/regression_obj.cu:152: reg:linear is now deprecated in favor of reg:squarederror.\n",
            "[22:43:53] WARNING: /workspace/src/objective/regression_obj.cu:152: reg:linear is now deprecated in favor of reg:squarederror.\n",
            "[22:43:53] WARNING: /workspace/src/objective/regression_obj.cu:152: reg:linear is now deprecated in favor of reg:squarederror.\n",
            "[22:43:53] WARNING: /workspace/src/objective/regression_obj.cu:152: reg:linear is now deprecated in favor of reg:squarederror.\n",
            "[22:43:53] WARNING: /workspace/src/objective/regression_obj.cu:152: reg:linear is now deprecated in favor of reg:squarederror.\n",
            "[22:43:53] WARNING: /workspace/src/objective/regression_obj.cu:152: reg:linear is now deprecated in favor of reg:squarederror.\n",
            "[22:43:53] WARNING: /workspace/src/objective/regression_obj.cu:152: reg:linear is now deprecated in favor of reg:squarederror.\n",
            "[22:43:53] WARNING: /workspace/src/objective/regression_obj.cu:152: reg:linear is now deprecated in favor of reg:squarederror.\n",
            "[22:43:53] WARNING: /workspace/src/objective/regression_obj.cu:152: reg:linear is now deprecated in favor of reg:squarederror.\n",
            "[22:43:54] WARNING: /workspace/src/objective/regression_obj.cu:152: reg:linear is now deprecated in favor of reg:squarederror.\n",
            "[22:43:54] WARNING: /workspace/src/objective/regression_obj.cu:152: reg:linear is now deprecated in favor of reg:squarederror.\n",
            "[22:43:54] WARNING: /workspace/src/objective/regression_obj.cu:152: reg:linear is now deprecated in favor of reg:squarederror.\n",
            "[22:43:54] WARNING: /workspace/src/objective/regression_obj.cu:152: reg:linear is now deprecated in favor of reg:squarederror.\n",
            "[22:43:54] WARNING: /workspace/src/objective/regression_obj.cu:152: reg:linear is now deprecated in favor of reg:squarederror.\n",
            "[22:43:54] WARNING: /workspace/src/objective/regression_obj.cu:152: reg:linear is now deprecated in favor of reg:squarederror.\n",
            "[22:43:54] WARNING: /workspace/src/objective/regression_obj.cu:152: reg:linear is now deprecated in favor of reg:squarederror.\n",
            "[22:43:54] WARNING: /workspace/src/objective/regression_obj.cu:152: reg:linear is now deprecated in favor of reg:squarederror.\n",
            "[22:43:54] WARNING: /workspace/src/objective/regression_obj.cu:152: reg:linear is now deprecated in favor of reg:squarederror.\n",
            "[22:43:54] WARNING: /workspace/src/objective/regression_obj.cu:152: reg:linear is now deprecated in favor of reg:squarederror.\n",
            "[22:43:54] WARNING: /workspace/src/objective/regression_obj.cu:152: reg:linear is now deprecated in favor of reg:squarederror.\n",
            "[22:43:54] WARNING: /workspace/src/objective/regression_obj.cu:152: reg:linear is now deprecated in favor of reg:squarederror.\n",
            "[22:43:54] WARNING: /workspace/src/objective/regression_obj.cu:152: reg:linear is now deprecated in favor of reg:squarederror.\n",
            "[22:43:54] WARNING: /workspace/src/objective/regression_obj.cu:152: reg:linear is now deprecated in favor of reg:squarederror.\n",
            "[22:43:55] WARNING: /workspace/src/objective/regression_obj.cu:152: reg:linear is now deprecated in favor of reg:squarederror.\n",
            "[22:43:55] WARNING: /workspace/src/objective/regression_obj.cu:152: reg:linear is now deprecated in favor of reg:squarederror.\n",
            "[22:43:55] WARNING: /workspace/src/objective/regression_obj.cu:152: reg:linear is now deprecated in favor of reg:squarederror.\n",
            "[22:43:55] WARNING: /workspace/src/objective/regression_obj.cu:152: reg:linear is now deprecated in favor of reg:squarederror.\n",
            "[22:43:55] WARNING: /workspace/src/objective/regression_obj.cu:152: reg:linear is now deprecated in favor of reg:squarederror.\n",
            "[22:43:55] WARNING: /workspace/src/objective/regression_obj.cu:152: reg:linear is now deprecated in favor of reg:squarederror.\n",
            "[22:43:55] WARNING: /workspace/src/objective/regression_obj.cu:152: reg:linear is now deprecated in favor of reg:squarederror.\n",
            "[22:43:55] WARNING: /workspace/src/objective/regression_obj.cu:152: reg:linear is now deprecated in favor of reg:squarederror.\n",
            "[22:43:55] WARNING: /workspace/src/objective/regression_obj.cu:152: reg:linear is now deprecated in favor of reg:squarederror.\n",
            "[22:43:55] WARNING: /workspace/src/objective/regression_obj.cu:152: reg:linear is now deprecated in favor of reg:squarederror.\n",
            "[22:43:55] WARNING: /workspace/src/objective/regression_obj.cu:152: reg:linear is now deprecated in favor of reg:squarederror.\n",
            "[22:43:55] WARNING: /workspace/src/objective/regression_obj.cu:152: reg:linear is now deprecated in favor of reg:squarederror.\n",
            "[22:43:55] WARNING: /workspace/src/objective/regression_obj.cu:152: reg:linear is now deprecated in favor of reg:squarederror.\n",
            "[22:43:56] WARNING: /workspace/src/objective/regression_obj.cu:152: reg:linear is now deprecated in favor of reg:squarederror.\n",
            "[22:43:56] WARNING: /workspace/src/objective/regression_obj.cu:152: reg:linear is now deprecated in favor of reg:squarederror.\n",
            "100%|██████████| 75/75 [00:04<00:00, 16.11it/s, best loss: 0.04771852938228826]\n",
            "[22:43:56] WARNING: /workspace/src/objective/regression_obj.cu:152: reg:linear is now deprecated in favor of reg:squarederror.\n",
            "xgb : MSE: 4975.738224330491 MAPE: 0.04771852938228826\n",
            "xgb took 4.711915969848633 seconds.\n",
            "\n",
            "\n",
            "============= CFuture2 =============\n",
            "## xgb ::\n",
            "[22:43:56] WARNING: /workspace/src/objective/regression_obj.cu:152: reg:linear is now deprecated in favor of reg:squarederror.\n",
            "[22:43:56] WARNING: /workspace/src/objective/regression_obj.cu:152: reg:linear is now deprecated in favor of reg:squarederror.\n",
            "[22:43:56] WARNING: /workspace/src/objective/regression_obj.cu:152: reg:linear is now deprecated in favor of reg:squarederror.\n",
            "[22:43:56] WARNING: /workspace/src/objective/regression_obj.cu:152: reg:linear is now deprecated in favor of reg:squarederror.\n",
            "[22:43:56] WARNING: /workspace/src/objective/regression_obj.cu:152: reg:linear is now deprecated in favor of reg:squarederror.\n",
            "[22:43:56] WARNING: /workspace/src/objective/regression_obj.cu:152: reg:linear is now deprecated in favor of reg:squarederror.\n",
            "[22:43:56] WARNING: /workspace/src/objective/regression_obj.cu:152: reg:linear is now deprecated in favor of reg:squarederror.\n",
            "[22:43:56] WARNING: /workspace/src/objective/regression_obj.cu:152: reg:linear is now deprecated in favor of reg:squarederror.\n",
            "[22:43:56] WARNING: /workspace/src/objective/regression_obj.cu:152: reg:linear is now deprecated in favor of reg:squarederror.\n",
            "[22:43:56] WARNING: /workspace/src/objective/regression_obj.cu:152: reg:linear is now deprecated in favor of reg:squarederror.\n",
            "[22:43:56] WARNING: /workspace/src/objective/regression_obj.cu:152: reg:linear is now deprecated in favor of reg:squarederror.\n",
            "[22:43:56] WARNING: /workspace/src/objective/regression_obj.cu:152: reg:linear is now deprecated in favor of reg:squarederror.\n",
            "[22:43:56] WARNING: /workspace/src/objective/regression_obj.cu:152: reg:linear is now deprecated in favor of reg:squarederror.\n",
            "[22:43:56] WARNING: /workspace/src/objective/regression_obj.cu:152: reg:linear is now deprecated in favor of reg:squarederror.\n",
            "[22:43:56] WARNING: /workspace/src/objective/regression_obj.cu:152: reg:linear is now deprecated in favor of reg:squarederror.\n",
            "[22:43:56] WARNING: /workspace/src/objective/regression_obj.cu:152: reg:linear is now deprecated in favor of reg:squarederror.\n",
            "[22:43:56] WARNING: /workspace/src/objective/regression_obj.cu:152: reg:linear is now deprecated in favor of reg:squarederror.\n",
            "[22:43:57] WARNING: /workspace/src/objective/regression_obj.cu:152: reg:linear is now deprecated in favor of reg:squarederror.\n",
            "[22:43:57] WARNING: /workspace/src/objective/regression_obj.cu:152: reg:linear is now deprecated in favor of reg:squarederror.\n",
            "[22:43:57] WARNING: /workspace/src/objective/regression_obj.cu:152: reg:linear is now deprecated in favor of reg:squarederror.\n",
            "[22:43:57] WARNING: /workspace/src/objective/regression_obj.cu:152: reg:linear is now deprecated in favor of reg:squarederror.\n",
            "[22:43:57] WARNING: /workspace/src/objective/regression_obj.cu:152: reg:linear is now deprecated in favor of reg:squarederror.\n",
            "[22:43:57] WARNING: /workspace/src/objective/regression_obj.cu:152: reg:linear is now deprecated in favor of reg:squarederror.\n",
            "[22:43:57] WARNING: /workspace/src/objective/regression_obj.cu:152: reg:linear is now deprecated in favor of reg:squarederror.\n",
            "[22:43:57] WARNING: /workspace/src/objective/regression_obj.cu:152: reg:linear is now deprecated in favor of reg:squarederror.\n",
            "[22:43:57] WARNING: /workspace/src/objective/regression_obj.cu:152: reg:linear is now deprecated in favor of reg:squarederror.\n",
            "[22:43:57] WARNING: /workspace/src/objective/regression_obj.cu:152: reg:linear is now deprecated in favor of reg:squarederror.\n",
            "[22:43:57] WARNING: /workspace/src/objective/regression_obj.cu:152: reg:linear is now deprecated in favor of reg:squarederror.\n",
            "[22:43:57] WARNING: /workspace/src/objective/regression_obj.cu:152: reg:linear is now deprecated in favor of reg:squarederror.\n",
            "[22:43:57] WARNING: /workspace/src/objective/regression_obj.cu:152: reg:linear is now deprecated in favor of reg:squarederror.\n",
            "[22:43:57] WARNING: /workspace/src/objective/regression_obj.cu:152: reg:linear is now deprecated in favor of reg:squarederror.\n",
            "[22:43:57] WARNING: /workspace/src/objective/regression_obj.cu:152: reg:linear is now deprecated in favor of reg:squarederror.\n",
            "[22:43:57] WARNING: /workspace/src/objective/regression_obj.cu:152: reg:linear is now deprecated in favor of reg:squarederror.\n",
            "[22:43:57] WARNING: /workspace/src/objective/regression_obj.cu:152: reg:linear is now deprecated in favor of reg:squarederror.\n",
            "[22:43:58] WARNING: /workspace/src/objective/regression_obj.cu:152: reg:linear is now deprecated in favor of reg:squarederror.\n",
            "[22:43:58] WARNING: /workspace/src/objective/regression_obj.cu:152: reg:linear is now deprecated in favor of reg:squarederror.\n",
            "[22:43:58] WARNING: /workspace/src/objective/regression_obj.cu:152: reg:linear is now deprecated in favor of reg:squarederror.\n",
            "[22:43:58] WARNING: /workspace/src/objective/regression_obj.cu:152: reg:linear is now deprecated in favor of reg:squarederror.\n",
            "[22:43:58] WARNING: /workspace/src/objective/regression_obj.cu:152: reg:linear is now deprecated in favor of reg:squarederror.\n",
            "[22:43:58] WARNING: /workspace/src/objective/regression_obj.cu:152: reg:linear is now deprecated in favor of reg:squarederror.\n",
            "[22:43:58] WARNING: /workspace/src/objective/regression_obj.cu:152: reg:linear is now deprecated in favor of reg:squarederror.\n",
            "[22:43:58] WARNING: /workspace/src/objective/regression_obj.cu:152: reg:linear is now deprecated in favor of reg:squarederror.\n",
            "[22:43:58] WARNING: /workspace/src/objective/regression_obj.cu:152: reg:linear is now deprecated in favor of reg:squarederror.\n",
            "[22:43:58] WARNING: /workspace/src/objective/regression_obj.cu:152: reg:linear is now deprecated in favor of reg:squarederror.\n",
            "[22:43:58] WARNING: /workspace/src/objective/regression_obj.cu:152: reg:linear is now deprecated in favor of reg:squarederror.\n",
            "[22:43:58] WARNING: /workspace/src/objective/regression_obj.cu:152: reg:linear is now deprecated in favor of reg:squarederror.\n",
            "[22:43:58] WARNING: /workspace/src/objective/regression_obj.cu:152: reg:linear is now deprecated in favor of reg:squarederror.\n",
            "[22:43:59] WARNING: /workspace/src/objective/regression_obj.cu:152: reg:linear is now deprecated in favor of reg:squarederror.\n",
            "[22:43:59] WARNING: /workspace/src/objective/regression_obj.cu:152: reg:linear is now deprecated in favor of reg:squarederror.\n",
            "[22:43:59] WARNING: /workspace/src/objective/regression_obj.cu:152: reg:linear is now deprecated in favor of reg:squarederror.\n",
            "[22:43:59] WARNING: /workspace/src/objective/regression_obj.cu:152: reg:linear is now deprecated in favor of reg:squarederror.\n",
            "[22:43:59] WARNING: /workspace/src/objective/regression_obj.cu:152: reg:linear is now deprecated in favor of reg:squarederror.\n",
            "[22:43:59] WARNING: /workspace/src/objective/regression_obj.cu:152: reg:linear is now deprecated in favor of reg:squarederror.\n",
            "[22:43:59] WARNING: /workspace/src/objective/regression_obj.cu:152: reg:linear is now deprecated in favor of reg:squarederror.\n",
            "[22:43:59] WARNING: /workspace/src/objective/regression_obj.cu:152: reg:linear is now deprecated in favor of reg:squarederror.\n",
            "[22:43:59] WARNING: /workspace/src/objective/regression_obj.cu:152: reg:linear is now deprecated in favor of reg:squarederror.\n",
            "[22:43:59] WARNING: /workspace/src/objective/regression_obj.cu:152: reg:linear is now deprecated in favor of reg:squarederror.\n",
            "[22:43:59] WARNING: /workspace/src/objective/regression_obj.cu:152: reg:linear is now deprecated in favor of reg:squarederror.\n",
            "[22:43:59] WARNING: /workspace/src/objective/regression_obj.cu:152: reg:linear is now deprecated in favor of reg:squarederror.\n",
            "[22:43:59] WARNING: /workspace/src/objective/regression_obj.cu:152: reg:linear is now deprecated in favor of reg:squarederror.\n",
            "[22:43:59] WARNING: /workspace/src/objective/regression_obj.cu:152: reg:linear is now deprecated in favor of reg:squarederror.\n",
            "[22:44:00] WARNING: /workspace/src/objective/regression_obj.cu:152: reg:linear is now deprecated in favor of reg:squarederror.\n",
            "[22:44:00] WARNING: /workspace/src/objective/regression_obj.cu:152: reg:linear is now deprecated in favor of reg:squarederror.\n",
            "[22:44:00] WARNING: /workspace/src/objective/regression_obj.cu:152: reg:linear is now deprecated in favor of reg:squarederror.\n",
            "[22:44:00] WARNING: /workspace/src/objective/regression_obj.cu:152: reg:linear is now deprecated in favor of reg:squarederror.\n",
            "[22:44:00] WARNING: /workspace/src/objective/regression_obj.cu:152: reg:linear is now deprecated in favor of reg:squarederror.\n",
            "[22:44:00] WARNING: /workspace/src/objective/regression_obj.cu:152: reg:linear is now deprecated in favor of reg:squarederror.\n",
            "[22:44:00] WARNING: /workspace/src/objective/regression_obj.cu:152: reg:linear is now deprecated in favor of reg:squarederror.\n",
            "[22:44:00] WARNING: /workspace/src/objective/regression_obj.cu:152: reg:linear is now deprecated in favor of reg:squarederror.\n",
            "[22:44:00] WARNING: /workspace/src/objective/regression_obj.cu:152: reg:linear is now deprecated in favor of reg:squarederror.\n",
            "[22:44:00] WARNING: /workspace/src/objective/regression_obj.cu:152: reg:linear is now deprecated in favor of reg:squarederror.\n",
            "[22:44:00] WARNING: /workspace/src/objective/regression_obj.cu:152: reg:linear is now deprecated in favor of reg:squarederror.\n",
            "[22:44:00] WARNING: /workspace/src/objective/regression_obj.cu:152: reg:linear is now deprecated in favor of reg:squarederror.\n",
            "[22:44:00] WARNING: /workspace/src/objective/regression_obj.cu:152: reg:linear is now deprecated in favor of reg:squarederror.\n",
            "[22:44:00] WARNING: /workspace/src/objective/regression_obj.cu:152: reg:linear is now deprecated in favor of reg:squarederror.\n",
            "100%|██████████| 75/75 [00:04<00:00, 15.84it/s, best loss: 0.04427115444096691]\n",
            "[22:44:00] WARNING: /workspace/src/objective/regression_obj.cu:152: reg:linear is now deprecated in favor of reg:squarederror.\n",
            "xgb : MSE: 15103.683177467701 MAPE: 0.04427115444096691\n",
            "xgb took 4.787477493286133 seconds.\n",
            "\n",
            "\n",
            "============= CFuture3 =============\n",
            "## xgb ::\n",
            "[22:44:01] WARNING: /workspace/src/objective/regression_obj.cu:152: reg:linear is now deprecated in favor of reg:squarederror.\n",
            "[22:44:01] WARNING: /workspace/src/objective/regression_obj.cu:152: reg:linear is now deprecated in favor of reg:squarederror.\n",
            "[22:44:01] WARNING: /workspace/src/objective/regression_obj.cu:152: reg:linear is now deprecated in favor of reg:squarederror.\n",
            "[22:44:01] WARNING: /workspace/src/objective/regression_obj.cu:152: reg:linear is now deprecated in favor of reg:squarederror.\n",
            "[22:44:01] WARNING: /workspace/src/objective/regression_obj.cu:152: reg:linear is now deprecated in favor of reg:squarederror.\n",
            "[22:44:01] WARNING: /workspace/src/objective/regression_obj.cu:152: reg:linear is now deprecated in favor of reg:squarederror.\n",
            "[22:44:01] WARNING: /workspace/src/objective/regression_obj.cu:152: reg:linear is now deprecated in favor of reg:squarederror.\n",
            "[22:44:01] WARNING: /workspace/src/objective/regression_obj.cu:152: reg:linear is now deprecated in favor of reg:squarederror.\n",
            "[22:44:01] WARNING: /workspace/src/objective/regression_obj.cu:152: reg:linear is now deprecated in favor of reg:squarederror.\n",
            "[22:44:01] WARNING: /workspace/src/objective/regression_obj.cu:152: reg:linear is now deprecated in favor of reg:squarederror.\n",
            "[22:44:01] WARNING: /workspace/src/objective/regression_obj.cu:152: reg:linear is now deprecated in favor of reg:squarederror.\n",
            "[22:44:01] WARNING: /workspace/src/objective/regression_obj.cu:152: reg:linear is now deprecated in favor of reg:squarederror.\n",
            "[22:44:01] WARNING: /workspace/src/objective/regression_obj.cu:152: reg:linear is now deprecated in favor of reg:squarederror.\n",
            "[22:44:01] WARNING: /workspace/src/objective/regression_obj.cu:152: reg:linear is now deprecated in favor of reg:squarederror.\n",
            "[22:44:01] WARNING: /workspace/src/objective/regression_obj.cu:152: reg:linear is now deprecated in favor of reg:squarederror.\n",
            "[22:44:01] WARNING: /workspace/src/objective/regression_obj.cu:152: reg:linear is now deprecated in favor of reg:squarederror.\n",
            "[22:44:01] WARNING: /workspace/src/objective/regression_obj.cu:152: reg:linear is now deprecated in favor of reg:squarederror.\n",
            "[22:44:01] WARNING: /workspace/src/objective/regression_obj.cu:152: reg:linear is now deprecated in favor of reg:squarederror.\n",
            "[22:44:01] WARNING: /workspace/src/objective/regression_obj.cu:152: reg:linear is now deprecated in favor of reg:squarederror.\n",
            "[22:44:01] WARNING: /workspace/src/objective/regression_obj.cu:152: reg:linear is now deprecated in favor of reg:squarederror.\n",
            "[22:44:01] WARNING: /workspace/src/objective/regression_obj.cu:152: reg:linear is now deprecated in favor of reg:squarederror.\n",
            "[22:44:01] WARNING: /workspace/src/objective/regression_obj.cu:152: reg:linear is now deprecated in favor of reg:squarederror.\n",
            "[22:44:01] WARNING: /workspace/src/objective/regression_obj.cu:152: reg:linear is now deprecated in favor of reg:squarederror.\n",
            "[22:44:02] WARNING: /workspace/src/objective/regression_obj.cu:152: reg:linear is now deprecated in favor of reg:squarederror.\n",
            "[22:44:02] WARNING: /workspace/src/objective/regression_obj.cu:152: reg:linear is now deprecated in favor of reg:squarederror.\n",
            "[22:44:02] WARNING: /workspace/src/objective/regression_obj.cu:152: reg:linear is now deprecated in favor of reg:squarederror.\n",
            "[22:44:02] WARNING: /workspace/src/objective/regression_obj.cu:152: reg:linear is now deprecated in favor of reg:squarederror.\n",
            "[22:44:02] WARNING: /workspace/src/objective/regression_obj.cu:152: reg:linear is now deprecated in favor of reg:squarederror.\n",
            "[22:44:02] WARNING: /workspace/src/objective/regression_obj.cu:152: reg:linear is now deprecated in favor of reg:squarederror.\n",
            "[22:44:02] WARNING: /workspace/src/objective/regression_obj.cu:152: reg:linear is now deprecated in favor of reg:squarederror.\n",
            "[22:44:02] WARNING: /workspace/src/objective/regression_obj.cu:152: reg:linear is now deprecated in favor of reg:squarederror.\n",
            "[22:44:02] WARNING: /workspace/src/objective/regression_obj.cu:152: reg:linear is now deprecated in favor of reg:squarederror.\n",
            "[22:44:02] WARNING: /workspace/src/objective/regression_obj.cu:152: reg:linear is now deprecated in favor of reg:squarederror.\n",
            "[22:44:02] WARNING: /workspace/src/objective/regression_obj.cu:152: reg:linear is now deprecated in favor of reg:squarederror.\n",
            "[22:44:02] WARNING: /workspace/src/objective/regression_obj.cu:152: reg:linear is now deprecated in favor of reg:squarederror.\n",
            "[22:44:02] WARNING: /workspace/src/objective/regression_obj.cu:152: reg:linear is now deprecated in favor of reg:squarederror.\n",
            "[22:44:02] WARNING: /workspace/src/objective/regression_obj.cu:152: reg:linear is now deprecated in favor of reg:squarederror.\n",
            "[22:44:03] WARNING: /workspace/src/objective/regression_obj.cu:152: reg:linear is now deprecated in favor of reg:squarederror.\n",
            "[22:44:03] WARNING: /workspace/src/objective/regression_obj.cu:152: reg:linear is now deprecated in favor of reg:squarederror.\n",
            "[22:44:03] WARNING: /workspace/src/objective/regression_obj.cu:152: reg:linear is now deprecated in favor of reg:squarederror.\n",
            "[22:44:03] WARNING: /workspace/src/objective/regression_obj.cu:152: reg:linear is now deprecated in favor of reg:squarederror.\n",
            "[22:44:03] WARNING: /workspace/src/objective/regression_obj.cu:152: reg:linear is now deprecated in favor of reg:squarederror.\n",
            "[22:44:03] WARNING: /workspace/src/objective/regression_obj.cu:152: reg:linear is now deprecated in favor of reg:squarederror.\n",
            "[22:44:03] WARNING: /workspace/src/objective/regression_obj.cu:152: reg:linear is now deprecated in favor of reg:squarederror.\n",
            "[22:44:03] WARNING: /workspace/src/objective/regression_obj.cu:152: reg:linear is now deprecated in favor of reg:squarederror.\n",
            "[22:44:03] WARNING: /workspace/src/objective/regression_obj.cu:152: reg:linear is now deprecated in favor of reg:squarederror.\n",
            "[22:44:03] WARNING: /workspace/src/objective/regression_obj.cu:152: reg:linear is now deprecated in favor of reg:squarederror.\n",
            "[22:44:03] WARNING: /workspace/src/objective/regression_obj.cu:152: reg:linear is now deprecated in favor of reg:squarederror.\n",
            "[22:44:03] WARNING: /workspace/src/objective/regression_obj.cu:152: reg:linear is now deprecated in favor of reg:squarederror.\n",
            "[22:44:03] WARNING: /workspace/src/objective/regression_obj.cu:152: reg:linear is now deprecated in favor of reg:squarederror.\n",
            "[22:44:03] WARNING: /workspace/src/objective/regression_obj.cu:152: reg:linear is now deprecated in favor of reg:squarederror.\n",
            "[22:44:03] WARNING: /workspace/src/objective/regression_obj.cu:152: reg:linear is now deprecated in favor of reg:squarederror.\n",
            "[22:44:04] WARNING: /workspace/src/objective/regression_obj.cu:152: reg:linear is now deprecated in favor of reg:squarederror.\n",
            "[22:44:04] WARNING: /workspace/src/objective/regression_obj.cu:152: reg:linear is now deprecated in favor of reg:squarederror.\n",
            "[22:44:04] WARNING: /workspace/src/objective/regression_obj.cu:152: reg:linear is now deprecated in favor of reg:squarederror.\n",
            "[22:44:04] WARNING: /workspace/src/objective/regression_obj.cu:152: reg:linear is now deprecated in favor of reg:squarederror.\n",
            "[22:44:04] WARNING: /workspace/src/objective/regression_obj.cu:152: reg:linear is now deprecated in favor of reg:squarederror.\n",
            "[22:44:04] WARNING: /workspace/src/objective/regression_obj.cu:152: reg:linear is now deprecated in favor of reg:squarederror.\n",
            "[22:44:04] WARNING: /workspace/src/objective/regression_obj.cu:152: reg:linear is now deprecated in favor of reg:squarederror.\n",
            "[22:44:04] WARNING: /workspace/src/objective/regression_obj.cu:152: reg:linear is now deprecated in favor of reg:squarederror.\n",
            "[22:44:04] WARNING: /workspace/src/objective/regression_obj.cu:152: reg:linear is now deprecated in favor of reg:squarederror.\n",
            "[22:44:04] WARNING: /workspace/src/objective/regression_obj.cu:152: reg:linear is now deprecated in favor of reg:squarederror.\n",
            "[22:44:04] WARNING: /workspace/src/objective/regression_obj.cu:152: reg:linear is now deprecated in favor of reg:squarederror.\n",
            "[22:44:04] WARNING: /workspace/src/objective/regression_obj.cu:152: reg:linear is now deprecated in favor of reg:squarederror.\n",
            "[22:44:04] WARNING: /workspace/src/objective/regression_obj.cu:152: reg:linear is now deprecated in favor of reg:squarederror.\n",
            "[22:44:04] WARNING: /workspace/src/objective/regression_obj.cu:152: reg:linear is now deprecated in favor of reg:squarederror.\n",
            "[22:44:05] WARNING: /workspace/src/objective/regression_obj.cu:152: reg:linear is now deprecated in favor of reg:squarederror.\n",
            "[22:44:05] WARNING: /workspace/src/objective/regression_obj.cu:152: reg:linear is now deprecated in favor of reg:squarederror.\n",
            "[22:44:05] WARNING: /workspace/src/objective/regression_obj.cu:152: reg:linear is now deprecated in favor of reg:squarederror.\n",
            "[22:44:05] WARNING: /workspace/src/objective/regression_obj.cu:152: reg:linear is now deprecated in favor of reg:squarederror.\n",
            "[22:44:05] WARNING: /workspace/src/objective/regression_obj.cu:152: reg:linear is now deprecated in favor of reg:squarederror.\n",
            "[22:44:05] WARNING: /workspace/src/objective/regression_obj.cu:152: reg:linear is now deprecated in favor of reg:squarederror.\n",
            "[22:44:05] WARNING: /workspace/src/objective/regression_obj.cu:152: reg:linear is now deprecated in favor of reg:squarederror.\n",
            "[22:44:05] WARNING: /workspace/src/objective/regression_obj.cu:152: reg:linear is now deprecated in favor of reg:squarederror.\n",
            "[22:44:05] WARNING: /workspace/src/objective/regression_obj.cu:152: reg:linear is now deprecated in favor of reg:squarederror.\n",
            "100%|██████████| 75/75 [00:04<00:00, 16.37it/s, best loss: 0.02606214512273511]\n",
            "[22:44:05] WARNING: /workspace/src/objective/regression_obj.cu:152: reg:linear is now deprecated in favor of reg:squarederror.\n",
            "xgb : MSE: 23245.98900828617 MAPE: 0.02606214512273511\n",
            "xgb took 4.616974115371704 seconds.\n",
            "\n",
            "\n",
            "============= CFuture4 =============\n",
            "## xgb ::\n",
            "[22:44:05] WARNING: /workspace/src/objective/regression_obj.cu:152: reg:linear is now deprecated in favor of reg:squarederror.\n",
            "[22:44:05] WARNING: /workspace/src/objective/regression_obj.cu:152: reg:linear is now deprecated in favor of reg:squarederror.\n",
            "[22:44:05] WARNING: /workspace/src/objective/regression_obj.cu:152: reg:linear is now deprecated in favor of reg:squarederror.\n",
            "[22:44:05] WARNING: /workspace/src/objective/regression_obj.cu:152: reg:linear is now deprecated in favor of reg:squarederror.\n",
            "[22:44:05] WARNING: /workspace/src/objective/regression_obj.cu:152: reg:linear is now deprecated in favor of reg:squarederror.\n",
            "[22:44:05] WARNING: /workspace/src/objective/regression_obj.cu:152: reg:linear is now deprecated in favor of reg:squarederror.\n",
            "[22:44:05] WARNING: /workspace/src/objective/regression_obj.cu:152: reg:linear is now deprecated in favor of reg:squarederror.\n",
            "[22:44:05] WARNING: /workspace/src/objective/regression_obj.cu:152: reg:linear is now deprecated in favor of reg:squarederror.\n",
            "[22:44:05] WARNING: /workspace/src/objective/regression_obj.cu:152: reg:linear is now deprecated in favor of reg:squarederror.\n",
            "[22:44:06] WARNING: /workspace/src/objective/regression_obj.cu:152: reg:linear is now deprecated in favor of reg:squarederror.\n",
            "[22:44:06] WARNING: /workspace/src/objective/regression_obj.cu:152: reg:linear is now deprecated in favor of reg:squarederror.\n",
            "[22:44:06] WARNING: /workspace/src/objective/regression_obj.cu:152: reg:linear is now deprecated in favor of reg:squarederror.\n",
            "[22:44:06] WARNING: /workspace/src/objective/regression_obj.cu:152: reg:linear is now deprecated in favor of reg:squarederror.\n",
            "[22:44:06] WARNING: /workspace/src/objective/regression_obj.cu:152: reg:linear is now deprecated in favor of reg:squarederror.\n",
            "[22:44:06] WARNING: /workspace/src/objective/regression_obj.cu:152: reg:linear is now deprecated in favor of reg:squarederror.\n",
            "[22:44:06] WARNING: /workspace/src/objective/regression_obj.cu:152: reg:linear is now deprecated in favor of reg:squarederror.\n",
            "[22:44:06] WARNING: /workspace/src/objective/regression_obj.cu:152: reg:linear is now deprecated in favor of reg:squarederror.\n",
            "[22:44:06] WARNING: /workspace/src/objective/regression_obj.cu:152: reg:linear is now deprecated in favor of reg:squarederror.\n",
            "[22:44:06] WARNING: /workspace/src/objective/regression_obj.cu:152: reg:linear is now deprecated in favor of reg:squarederror.\n",
            "[22:44:06] WARNING: /workspace/src/objective/regression_obj.cu:152: reg:linear is now deprecated in favor of reg:squarederror.\n",
            "[22:44:06] WARNING: /workspace/src/objective/regression_obj.cu:152: reg:linear is now deprecated in favor of reg:squarederror.\n",
            "[22:44:06] WARNING: /workspace/src/objective/regression_obj.cu:152: reg:linear is now deprecated in favor of reg:squarederror.\n",
            "[22:44:06] WARNING: /workspace/src/objective/regression_obj.cu:152: reg:linear is now deprecated in favor of reg:squarederror.\n",
            "[22:44:06] WARNING: /workspace/src/objective/regression_obj.cu:152: reg:linear is now deprecated in favor of reg:squarederror.\n",
            "[22:44:06] WARNING: /workspace/src/objective/regression_obj.cu:152: reg:linear is now deprecated in favor of reg:squarederror.\n",
            "[22:44:06] WARNING: /workspace/src/objective/regression_obj.cu:152: reg:linear is now deprecated in favor of reg:squarederror.\n",
            "[22:44:06] WARNING: /workspace/src/objective/regression_obj.cu:152: reg:linear is now deprecated in favor of reg:squarederror.\n",
            "[22:44:06] WARNING: /workspace/src/objective/regression_obj.cu:152: reg:linear is now deprecated in favor of reg:squarederror.\n",
            "[22:44:06] WARNING: /workspace/src/objective/regression_obj.cu:152: reg:linear is now deprecated in favor of reg:squarederror.\n",
            "[22:44:07] WARNING: /workspace/src/objective/regression_obj.cu:152: reg:linear is now deprecated in favor of reg:squarederror.\n",
            "[22:44:07] WARNING: /workspace/src/objective/regression_obj.cu:152: reg:linear is now deprecated in favor of reg:squarederror.\n",
            "[22:44:07] WARNING: /workspace/src/objective/regression_obj.cu:152: reg:linear is now deprecated in favor of reg:squarederror.\n",
            "[22:44:07] WARNING: /workspace/src/objective/regression_obj.cu:152: reg:linear is now deprecated in favor of reg:squarederror.\n",
            "[22:44:07] WARNING: /workspace/src/objective/regression_obj.cu:152: reg:linear is now deprecated in favor of reg:squarederror.\n",
            "[22:44:07] WARNING: /workspace/src/objective/regression_obj.cu:152: reg:linear is now deprecated in favor of reg:squarederror.\n",
            "[22:44:07] WARNING: /workspace/src/objective/regression_obj.cu:152: reg:linear is now deprecated in favor of reg:squarederror.\n",
            "[22:44:07] WARNING: /workspace/src/objective/regression_obj.cu:152: reg:linear is now deprecated in favor of reg:squarederror.\n",
            "[22:44:07] WARNING: /workspace/src/objective/regression_obj.cu:152: reg:linear is now deprecated in favor of reg:squarederror.\n",
            "[22:44:07] WARNING: /workspace/src/objective/regression_obj.cu:152: reg:linear is now deprecated in favor of reg:squarederror.\n",
            "[22:44:07] WARNING: /workspace/src/objective/regression_obj.cu:152: reg:linear is now deprecated in favor of reg:squarederror.\n",
            "[22:44:07] WARNING: /workspace/src/objective/regression_obj.cu:152: reg:linear is now deprecated in favor of reg:squarederror.\n",
            "[22:44:07] WARNING: /workspace/src/objective/regression_obj.cu:152: reg:linear is now deprecated in favor of reg:squarederror.\n",
            "[22:44:07] WARNING: /workspace/src/objective/regression_obj.cu:152: reg:linear is now deprecated in favor of reg:squarederror.\n",
            "[22:44:07] WARNING: /workspace/src/objective/regression_obj.cu:152: reg:linear is now deprecated in favor of reg:squarederror.\n",
            "[22:44:08] WARNING: /workspace/src/objective/regression_obj.cu:152: reg:linear is now deprecated in favor of reg:squarederror.\n",
            "[22:44:08] WARNING: /workspace/src/objective/regression_obj.cu:152: reg:linear is now deprecated in favor of reg:squarederror.\n",
            "[22:44:08] WARNING: /workspace/src/objective/regression_obj.cu:152: reg:linear is now deprecated in favor of reg:squarederror.\n",
            "[22:44:08] WARNING: /workspace/src/objective/regression_obj.cu:152: reg:linear is now deprecated in favor of reg:squarederror.\n",
            "[22:44:08] WARNING: /workspace/src/objective/regression_obj.cu:152: reg:linear is now deprecated in favor of reg:squarederror.\n",
            "[22:44:08] WARNING: /workspace/src/objective/regression_obj.cu:152: reg:linear is now deprecated in favor of reg:squarederror.\n",
            "[22:44:08] WARNING: /workspace/src/objective/regression_obj.cu:152: reg:linear is now deprecated in favor of reg:squarederror.\n",
            "[22:44:08] WARNING: /workspace/src/objective/regression_obj.cu:152: reg:linear is now deprecated in favor of reg:squarederror.\n",
            "[22:44:08] WARNING: /workspace/src/objective/regression_obj.cu:152: reg:linear is now deprecated in favor of reg:squarederror.\n",
            "[22:44:08] WARNING: /workspace/src/objective/regression_obj.cu:152: reg:linear is now deprecated in favor of reg:squarederror.\n",
            "[22:44:08] WARNING: /workspace/src/objective/regression_obj.cu:152: reg:linear is now deprecated in favor of reg:squarederror.\n",
            "[22:44:08] WARNING: /workspace/src/objective/regression_obj.cu:152: reg:linear is now deprecated in favor of reg:squarederror.\n",
            "[22:44:08] WARNING: /workspace/src/objective/regression_obj.cu:152: reg:linear is now deprecated in favor of reg:squarederror.\n",
            "[22:44:08] WARNING: /workspace/src/objective/regression_obj.cu:152: reg:linear is now deprecated in favor of reg:squarederror.\n",
            "[22:44:08] WARNING: /workspace/src/objective/regression_obj.cu:152: reg:linear is now deprecated in favor of reg:squarederror.\n",
            "[22:44:09] WARNING: /workspace/src/objective/regression_obj.cu:152: reg:linear is now deprecated in favor of reg:squarederror.\n",
            "[22:44:09] WARNING: /workspace/src/objective/regression_obj.cu:152: reg:linear is now deprecated in favor of reg:squarederror.\n",
            "[22:44:09] WARNING: /workspace/src/objective/regression_obj.cu:152: reg:linear is now deprecated in favor of reg:squarederror.\n",
            "[22:44:09] WARNING: /workspace/src/objective/regression_obj.cu:152: reg:linear is now deprecated in favor of reg:squarederror.\n",
            "[22:44:09] WARNING: /workspace/src/objective/regression_obj.cu:152: reg:linear is now deprecated in favor of reg:squarederror.\n",
            "[22:44:09] WARNING: /workspace/src/objective/regression_obj.cu:152: reg:linear is now deprecated in favor of reg:squarederror.\n",
            "[22:44:09] WARNING: /workspace/src/objective/regression_obj.cu:152: reg:linear is now deprecated in favor of reg:squarederror.\n",
            "[22:44:09] WARNING: /workspace/src/objective/regression_obj.cu:152: reg:linear is now deprecated in favor of reg:squarederror.\n",
            "[22:44:09] WARNING: /workspace/src/objective/regression_obj.cu:152: reg:linear is now deprecated in favor of reg:squarederror.\n",
            "[22:44:09] WARNING: /workspace/src/objective/regression_obj.cu:152: reg:linear is now deprecated in favor of reg:squarederror.\n",
            "[22:44:09] WARNING: /workspace/src/objective/regression_obj.cu:152: reg:linear is now deprecated in favor of reg:squarederror.\n",
            "[22:44:09] WARNING: /workspace/src/objective/regression_obj.cu:152: reg:linear is now deprecated in favor of reg:squarederror.\n",
            "[22:44:09] WARNING: /workspace/src/objective/regression_obj.cu:152: reg:linear is now deprecated in favor of reg:squarederror.\n",
            "[22:44:09] WARNING: /workspace/src/objective/regression_obj.cu:152: reg:linear is now deprecated in favor of reg:squarederror.\n",
            "[22:44:10] WARNING: /workspace/src/objective/regression_obj.cu:152: reg:linear is now deprecated in favor of reg:squarederror.\n",
            "[22:44:10] WARNING: /workspace/src/objective/regression_obj.cu:152: reg:linear is now deprecated in favor of reg:squarederror.\n",
            "100%|██████████| 75/75 [00:04<00:00, 16.53it/s, best loss: 0.027564116949696665]\n",
            "[22:44:10] WARNING: /workspace/src/objective/regression_obj.cu:152: reg:linear is now deprecated in favor of reg:squarederror.\n",
            "xgb : MSE: 99270.03537186554 MAPE: 0.027564116949696665\n",
            "xgb took 4.579203844070435 seconds.\n",
            "\n",
            "\n"
          ]
        }
      ]
    },
    {
      "cell_type": "code",
      "metadata": {
        "colab": {
          "base_uri": "https://localhost:8080/"
        },
        "id": "0HLpgJTWp2CT",
        "outputId": "90839943-43cc-4b47-9579-f01e2a7804dc"
      },
      "source": [
        "all_results"
      ],
      "execution_count": null,
      "outputs": [
        {
          "output_type": "execute_result",
          "data": {
            "text/plain": [
              "{'CFuture1': {'xgb': [{'colsample_bytree': 1.0,\n",
              "    'gamma': 0.26,\n",
              "    'learning_rate': 0.35000000000000003,\n",
              "    'max_depth': 3,\n",
              "    'min_child_weight': 8.0,\n",
              "    'n_estimators': 60,\n",
              "    'subsample': 0.81},\n",
              "   <hyperopt.base.Trials at 0x7f4fde560a50>,\n",
              "   XGBRegressor(colsample_bytree=1.0, gamma=0.26,\n",
              "                learning_rate=0.35000000000000003, min_child_weight=8.0,\n",
              "                n_estimators=60, subsample=0.81),\n",
              "   0.04771852938228826,\n",
              "   4975.738224330491]},\n",
              " 'CFuture2': {'xgb': [{'colsample_bytree': 0.73,\n",
              "    'gamma': 0.25,\n",
              "    'learning_rate': 0.39,\n",
              "    'max_depth': 4,\n",
              "    'min_child_weight': 10.0,\n",
              "    'n_estimators': 60,\n",
              "    'subsample': 0.62},\n",
              "   <hyperopt.base.Trials at 0x7f4fde867fd0>,\n",
              "   XGBRegressor(colsample_bytree=0.73, gamma=0.25, learning_rate=0.39, max_depth=4,\n",
              "                min_child_weight=10.0, n_estimators=60, subsample=0.62),\n",
              "   0.04427115444096691,\n",
              "   15103.683177467701]},\n",
              " 'CFuture3': {'xgb': [{'colsample_bytree': 0.8300000000000001,\n",
              "    'gamma': 0.03,\n",
              "    'learning_rate': 0.15,\n",
              "    'max_depth': 4,\n",
              "    'min_child_weight': 8.0,\n",
              "    'n_estimators': 40,\n",
              "    'subsample': 0.21},\n",
              "   <hyperopt.base.Trials at 0x7f4fde560510>,\n",
              "   XGBRegressor(colsample_bytree=0.8300000000000001, gamma=0.03,\n",
              "                learning_rate=0.15, max_depth=4, min_child_weight=8.0,\n",
              "                n_estimators=40, subsample=0.21),\n",
              "   0.02606214512273511,\n",
              "   23245.98900828617]},\n",
              " 'CFuture4': {'xgb': [{'colsample_bytree': 0.47000000000000003,\n",
              "    'gamma': 0.39,\n",
              "    'learning_rate': 0.1,\n",
              "    'max_depth': 4,\n",
              "    'min_child_weight': 7.0,\n",
              "    'n_estimators': 60,\n",
              "    'subsample': 0.27},\n",
              "   <hyperopt.base.Trials at 0x7f4fe0921690>,\n",
              "   XGBRegressor(colsample_bytree=0.47000000000000003, gamma=0.39, max_depth=4,\n",
              "                min_child_weight=7.0, n_estimators=60, subsample=0.27),\n",
              "   0.027564116949696665,\n",
              "   99270.03537186554]}}"
            ]
          },
          "metadata": {},
          "execution_count": 128
        }
      ]
    },
    {
      "cell_type": "code",
      "metadata": {
        "id": "zhdonh5cck36"
      },
      "source": [
        "#metric_mape(all_results[\"CFuture1\"][\"linear_regression\"][-3], X_test, y_test_, \"CFuture1\")"
      ],
      "execution_count": null,
      "outputs": []
    },
    {
      "cell_type": "code",
      "metadata": {
        "id": "jkJUWx-wck36"
      },
      "source": [
        "#clss = XGBRegressor(**{'colsample_bytree': 1, 'eta': 0.2, 'eval_metric': 'rmse', 'gamma': 0.4, 'max_depth': 4, 'min_samples_leaf': 10, 'n_estimators': 80, 'objective': 'reg:squarederror'})\n",
        "#clss.fit(X_train, y_train[\"CFuture1\"])"
      ],
      "execution_count": null,
      "outputs": []
    },
    {
      "cell_type": "code",
      "metadata": {
        "id": "Wm-0e0Ny817d"
      },
      "source": [
        "# save results\n",
        "import pickle\n",
        "y_hat_test = all_results[key][\"xgb\"][2].predict(X_test)\n",
        "y_hat_valid = all_results[key][\"xgb\"][2].predict(X_valid)\n",
        "# Example file name: xgb_cfuture1__testing_covid.pkl\n",
        "with open('xgb_cfuture_'+ key+'__split_'+ str(split) + '_data-normal.pkl', \"wb\") as file_:\n",
        "\tpickle.dump([\n",
        "      model,\n",
        "      X_valid,\n",
        "      y_hat_valid, # the predicted y value for CFutureX (X= 1-4) valid set\n",
        "      y_valid, # the ground-truth y value\n",
        "      X_test,\n",
        "      y_hat_test,\n",
        "      y_test,\n",
        "      all_results\n",
        "      ], file_)"
      ],
      "execution_count": null,
      "outputs": []
    },
    {
      "cell_type": "markdown",
      "metadata": {
        "id": "Bx4cyPAsck36"
      },
      "source": [
        "### Model Evaluation & Plotting"
      ]
    },
    {
      "cell_type": "code",
      "metadata": {
        "colab": {
          "base_uri": "https://localhost:8080/"
        },
        "id": "AqrvP3DJck37",
        "outputId": "8223a34e-89a9-4ee1-f5bf-b853b0c05b6e"
      },
      "source": [
        "key = \"CFuture1\"\n",
        "str(all_results[key][\"xgb\"][0])\n",
        "all_results[key][\"xgb\"][2]"
      ],
      "execution_count": null,
      "outputs": [
        {
          "output_type": "execute_result",
          "data": {
            "text/plain": [
              "XGBRegressor(colsample_bytree=0.96, gamma=0.36, learning_rate=0.4, max_depth=4,\n",
              "             min_child_weight=2.0, n_estimators=30, subsample=0.44)"
            ]
          },
          "metadata": {},
          "execution_count": 67
        }
      ]
    },
    {
      "cell_type": "code",
      "metadata": {
        "colab": {
          "base_uri": "https://localhost:8080/",
          "height": 313
        },
        "id": "9SQKkq2kck37",
        "outputId": "c588e802-8547-4c03-951e-cfb3fb9241e9"
      },
      "source": [
        "key = \"CFuture1\";  model=\"xgb\"\n",
        "plot_trend(all_results[key][\"xgb\"][2], X_test, y_test[key], model, split, key)"
      ],
      "execution_count": null,
      "outputs": [
        {
          "output_type": "execute_result",
          "data": {
            "text/plain": [
              "<module 'matplotlib.pyplot' from '/usr/local/lib/python3.7/dist-packages/matplotlib/pyplot.py'>"
            ]
          },
          "metadata": {},
          "execution_count": 133
        },
        {
          "output_type": "display_data",
          "data": {
            "image/png": "[encoded data removed]",
            "text/plain": [
              "<Figure size 504x288 with 1 Axes>"
            ]
          },
          "metadata": {
            "needs_background": "light"
          }
        }
      ]
    },
    {
      "cell_type": "markdown",
      "metadata": {
        "id": "EWrcq0w5ck37"
      },
      "source": [
        "**COVID Check**"
      ]
    },
    {
      "cell_type": "code",
      "metadata": {
        "id": "Mp3bZKowck38"
      },
      "source": [
        "df = pd.read_excel('ModelData_Cleaned.xlsx')\n",
        "data_covid = df[df['Date'] > '2020-02-01'][0:80] # cut off the data points > 80 or after 26-520 (as they're inaccurate)\n",
        "data_covid = data_covid.drop(labels=[\"Date\",'CWeekDay','CCoronaRelDateNum','CCoronaRelWeekNum','CWeekNumYear'],axis=1)\n",
        "data_covid.head()\n",
        "X_test_covid = data_covid.drop(labels=[\"CFuture1\",\"CFuture2\",\"CFuture3\",\"CFuture4\"],axis=1)\n",
        "y_test_covid = data_covid[[\"CFuture1\",\"CFuture2\",\"CFuture3\",\"CFuture4\"]]"
      ],
      "execution_count": null,
      "outputs": []
    },
    {
      "cell_type": "code",
      "metadata": {
        "id": "JjFWIF6Yck38"
      },
      "source": [
        "X_test_covid, _ = preprocess(X_test_covid, transformers)"
      ],
      "execution_count": null,
      "outputs": []
    },
    {
      "cell_type": "code",
      "metadata": {
        "id": "dV8z-IVmck38",
        "outputId": "02d1d93f-f824-4db0-aac9-2e8b5986b32e"
      },
      "source": [
        "key = \"CFuture4\"\n",
        "plot_trend(all_results[key][\"xgb\"][2], X_test_covid.values, y_test_covid[key].values, key)"
      ],
      "execution_count": null,
      "outputs": [
        {
          "data": {
            "text/plain": [
              "<module 'matplotlib.pyplot' from '/usr/lib/python3/dist-packages/matplotlib/pyplot.py'>"
            ]
          },
          "execution_count": 104,
          "metadata": {},
          "output_type": "execute_result"
        },
        {
          "data": {
            "image/png": "[encoded data removed]",
            "text/plain": [
              "<Figure size 504x288 with 1 Axes>"
            ]
          },
          "metadata": {
            "needs_background": "light"
          },
          "output_type": "display_data"
        }
      ]
    },
    {
      "cell_type": "code",
      "metadata": {
        "id": "9ensb_Sdck39"
      },
      "source": [],
      "execution_count": null,
      "outputs": []
    },
    {
      "cell_type": "code",
      "metadata": {
        "id": "B8JQJHlrck39"
      },
      "source": [],
      "execution_count": null,
      "outputs": []
    },
    {
      "cell_type": "code",
      "metadata": {
        "id": "Arbc3Hyvck39"
      },
      "source": [],
      "execution_count": null,
      "outputs": []
    },
    {
      "cell_type": "code",
      "metadata": {
        "id": "0BwP_uAQck39"
      },
      "source": [],
      "execution_count": null,
      "outputs": []
    },
    {
      "cell_type": "markdown",
      "metadata": {
        "id": "MVKgfSyVck3-"
      },
      "source": [
        "## Backup"
      ]
    },
    {
      "cell_type": "code",
      "metadata": {
        "id": "fgI3aIXGck3-",
        "outputId": "ef5d19c6-a9c4-4017-9dc0-cf1bb9efe88a"
      },
      "source": [
        "mean_absolute_error(y_test[\"CFuture1\"], clss.predict(X_test))"
      ],
      "execution_count": null,
      "outputs": [
        {
          "data": {
            "text/plain": [
              "68.30184064592633"
            ]
          },
          "execution_count": 118,
          "metadata": {},
          "output_type": "execute_result"
        }
      ]
    },
    {
      "cell_type": "code",
      "metadata": {
        "id": "JR5KBfILck3_",
        "outputId": "36b6d31a-8bf5-4880-9776-bf6c2cd748f3"
      },
      "source": [
        "yhat = clss.predict(X_test)\n",
        "np.mean((yhat - y_test[\"CFuture1\"]) / (y_test[\"CFuture1\"]))"
      ],
      "execution_count": null,
      "outputs": [
        {
          "data": {
            "text/plain": [
              "-0.021156104370755716"
            ]
          },
          "execution_count": 120,
          "metadata": {},
          "output_type": "execute_result"
        }
      ]
    },
    {
      "cell_type": "code",
      "metadata": {
        "id": "9vyXqTrxck3_"
      },
      "source": [
        "sklearn.linear_model.LinearRegression"
      ],
      "execution_count": null,
      "outputs": []
    },
    {
      "cell_type": "code",
      "metadata": {
        "id": "HiUsVW3Nck4A"
      },
      "source": [
        "X_train.shape"
      ],
      "execution_count": null,
      "outputs": []
    },
    {
      "cell_type": "code",
      "metadata": {
        "id": "WCXNVAkhck4A"
      },
      "source": [
        "from sklearn.feature_selection import SelectFromModel\n",
        "lsvc = LinearSVC(C=0.01, penalty=\"l1\", dual=False).fit(X_train, y_train[\"CFuture1\"])\n",
        "model = SelectFromModel(lsvc, prefit=True)\n",
        "X_new = model.transform(X)\n",
        "X_new.shape"
      ],
      "execution_count": null,
      "outputs": []
    },
    {
      "cell_type": "code",
      "metadata": {
        "id": "QpV9D4OUck4A"
      },
      "source": [
        "np.sin((365/2)/365 * 2* np.pi)"
      ],
      "execution_count": null,
      "outputs": []
    },
    {
      "cell_type": "code",
      "metadata": {
        "id": "xuQ09b3hck4B",
        "outputId": "349e6a68-ccc9-4dbd-82e2-acf0b757eade"
      },
      "source": [
        "# import the data (all features)\n",
        "X_train = pd.read_csv('train_X.csv'); X_test = pd.read_csv('test_X.csv')\n",
        "y_train = pd.read_csv('train_y.csv'); y_test = pd.read_csv('test_y.csv')\n",
        "print(['Size train set: ',len(X_train)]);\n",
        "print(['Size test set: ',len(X_test)]);\n",
        "X_train.head()"
      ],
      "execution_count": null,
      "outputs": [
        {
          "name": "stdout",
          "output_type": "stream",
          "text": [
            "['Size train set: ', 294]\n",
            "['Size test set: ', 56]\n"
          ]
        },
        {
          "data": {
            "text/html": [
              "<div>\n",
              "<style scoped>\n",
              "    .dataframe tbody tr th:only-of-type {\n",
              "        vertical-align: middle;\n",
              "    }\n",
              "\n",
              "    .dataframe tbody tr th {\n",
              "        vertical-align: top;\n",
              "    }\n",
              "\n",
              "    .dataframe thead th {\n",
              "        text-align: right;\n",
              "    }\n",
              "</style>\n",
              "<table border=\"1\" class=\"dataframe\">\n",
              "  <thead>\n",
              "    <tr style=\"text-align: right;\">\n",
              "      <th></th>\n",
              "      <th>YearDayNum</th>\n",
              "      <th>NumO1</th>\n",
              "      <th>NumO2</th>\n",
              "      <th>NumO3</th>\n",
              "      <th>NumO4</th>\n",
              "      <th>NumR1</th>\n",
              "      <th>NumR2</th>\n",
              "      <th>NumR3</th>\n",
              "      <th>NumR4</th>\n",
              "      <th>NumSA1</th>\n",
              "      <th>...</th>\n",
              "      <th>NumS3</th>\n",
              "      <th>NumS4</th>\n",
              "      <th>NumC1</th>\n",
              "      <th>NumC2</th>\n",
              "      <th>NumC3</th>\n",
              "      <th>NumC4</th>\n",
              "      <th>NumSF1</th>\n",
              "      <th>NumSF2</th>\n",
              "      <th>NumSF3</th>\n",
              "      <th>NumSF4</th>\n",
              "    </tr>\n",
              "  </thead>\n",
              "  <tbody>\n",
              "    <tr>\n",
              "      <th>0</th>\n",
              "      <td>282</td>\n",
              "      <td>64</td>\n",
              "      <td>70</td>\n",
              "      <td>95</td>\n",
              "      <td>134</td>\n",
              "      <td>4</td>\n",
              "      <td>9</td>\n",
              "      <td>14</td>\n",
              "      <td>22</td>\n",
              "      <td>80</td>\n",
              "      <td>...</td>\n",
              "      <td>190</td>\n",
              "      <td>188</td>\n",
              "      <td>190</td>\n",
              "      <td>387</td>\n",
              "      <td>370</td>\n",
              "      <td>375</td>\n",
              "      <td>489</td>\n",
              "      <td>887</td>\n",
              "      <td>1408</td>\n",
              "      <td>2067</td>\n",
              "    </tr>\n",
              "    <tr>\n",
              "      <th>1</th>\n",
              "      <td>283</td>\n",
              "      <td>55</td>\n",
              "      <td>77</td>\n",
              "      <td>104</td>\n",
              "      <td>143</td>\n",
              "      <td>4</td>\n",
              "      <td>8</td>\n",
              "      <td>23</td>\n",
              "      <td>26</td>\n",
              "      <td>67</td>\n",
              "      <td>...</td>\n",
              "      <td>179</td>\n",
              "      <td>179</td>\n",
              "      <td>177</td>\n",
              "      <td>553</td>\n",
              "      <td>569</td>\n",
              "      <td>575</td>\n",
              "      <td>484</td>\n",
              "      <td>952</td>\n",
              "      <td>1414</td>\n",
              "      <td>2153</td>\n",
              "    </tr>\n",
              "    <tr>\n",
              "      <th>2</th>\n",
              "      <td>284</td>\n",
              "      <td>59</td>\n",
              "      <td>92</td>\n",
              "      <td>102</td>\n",
              "      <td>140</td>\n",
              "      <td>4</td>\n",
              "      <td>6</td>\n",
              "      <td>14</td>\n",
              "      <td>22</td>\n",
              "      <td>89</td>\n",
              "      <td>...</td>\n",
              "      <td>191</td>\n",
              "      <td>202</td>\n",
              "      <td>197</td>\n",
              "      <td>728</td>\n",
              "      <td>742</td>\n",
              "      <td>773</td>\n",
              "      <td>536</td>\n",
              "      <td>917</td>\n",
              "      <td>1489</td>\n",
              "      <td>2107</td>\n",
              "    </tr>\n",
              "    <tr>\n",
              "      <th>3</th>\n",
              "      <td>285</td>\n",
              "      <td>49</td>\n",
              "      <td>79</td>\n",
              "      <td>92</td>\n",
              "      <td>145</td>\n",
              "      <td>7</td>\n",
              "      <td>9</td>\n",
              "      <td>18</td>\n",
              "      <td>27</td>\n",
              "      <td>83</td>\n",
              "      <td>...</td>\n",
              "      <td>198</td>\n",
              "      <td>202</td>\n",
              "      <td>195</td>\n",
              "      <td>798</td>\n",
              "      <td>941</td>\n",
              "      <td>961</td>\n",
              "      <td>551</td>\n",
              "      <td>1002</td>\n",
              "      <td>1574</td>\n",
              "      <td>2228</td>\n",
              "    </tr>\n",
              "    <tr>\n",
              "      <th>4</th>\n",
              "      <td>288</td>\n",
              "      <td>44</td>\n",
              "      <td>75</td>\n",
              "      <td>94</td>\n",
              "      <td>123</td>\n",
              "      <td>7</td>\n",
              "      <td>9</td>\n",
              "      <td>11</td>\n",
              "      <td>21</td>\n",
              "      <td>62</td>\n",
              "      <td>...</td>\n",
              "      <td>169</td>\n",
              "      <td>176</td>\n",
              "      <td>163</td>\n",
              "      <td>949</td>\n",
              "      <td>1111</td>\n",
              "      <td>1077</td>\n",
              "      <td>584</td>\n",
              "      <td>950</td>\n",
              "      <td>1609</td>\n",
              "      <td>2158</td>\n",
              "    </tr>\n",
              "  </tbody>\n",
              "</table>\n",
              "<p>5 rows × 25 columns</p>\n",
              "</div>"
            ],
            "text/plain": [
              "   YearDayNum  NumO1  NumO2  NumO3  NumO4  NumR1  NumR2  NumR3  NumR4  NumSA1  \\\n",
              "0         282     64     70     95    134      4      9     14     22      80   \n",
              "1         283     55     77    104    143      4      8     23     26      67   \n",
              "2         284     59     92    102    140      4      6     14     22      89   \n",
              "3         285     49     79     92    145      7      9     18     27      83   \n",
              "4         288     44     75     94    123      7      9     11     21      62   \n",
              "\n",
              "   ...  NumS3  NumS4  NumC1  NumC2  NumC3  NumC4  NumSF1  NumSF2  NumSF3  \\\n",
              "0  ...    190    188    190    387    370    375     489     887    1408   \n",
              "1  ...    179    179    177    553    569    575     484     952    1414   \n",
              "2  ...    191    202    197    728    742    773     536     917    1489   \n",
              "3  ...    198    202    195    798    941    961     551    1002    1574   \n",
              "4  ...    169    176    163    949   1111   1077     584     950    1609   \n",
              "\n",
              "   NumSF4  \n",
              "0    2067  \n",
              "1    2153  \n",
              "2    2107  \n",
              "3    2228  \n",
              "4    2158  \n",
              "\n",
              "[5 rows x 25 columns]"
            ]
          },
          "execution_count": 15,
          "metadata": {},
          "output_type": "execute_result"
        }
      ]
    },
    {
      "cell_type": "code",
      "metadata": {
        "id": "7kKOmufCck4B"
      },
      "source": [
        "DELTA_FEATURES=True\n",
        "STANDARD_SCALE=True"
      ],
      "execution_count": null,
      "outputs": []
    },
    {
      "cell_type": "code",
      "metadata": {
        "id": "4JC7a5A4ck4B"
      },
      "source": [
        "X_train= X_train.infer_objects()\n",
        "X_test = X_test.infer_objects()"
      ],
      "execution_count": null,
      "outputs": []
    },
    {
      "cell_type": "code",
      "metadata": {
        "id": "BZAgHKSQck4B"
      },
      "source": [
        "X_train, transformers = preprocess(X_train, {})\n",
        "X_test, _ = preprocess(X_test, transformers)"
      ],
      "execution_count": null,
      "outputs": []
    },
    {
      "cell_type": "code",
      "metadata": {
        "id": "AQXqNLwAck4C"
      },
      "source": [
        "def metric_mape(estimator, X, y): #ypred, dtest):\n",
        "   labels = estimator.predict(X)\n",
        "   return mean_absolute_percentage_error(labels,y) #np.mean(np.abs((labels - y) / labels) * 100) #('MAPE (%)', )"
      ],
      "execution_count": null,
      "outputs": []
    },
    {
      "cell_type": "code",
      "metadata": {
        "id": "0igdXYQnck4C"
      },
      "source": [],
      "execution_count": null,
      "outputs": []
    },
    {
      "cell_type": "code",
      "metadata": {
        "id": "7__nrZF0ck4C"
      },
      "source": [
        "all_results = {}"
      ],
      "execution_count": null,
      "outputs": []
    },
    {
      "cell_type": "code",
      "metadata": {
        "id": "UFYSt_Lhck4C"
      },
      "source": [
        "mapes = []\n",
        "def permute_and_fit(Xtr, ytr, Xte, yte label_cls=\"CFuture1\", funccnt=10):\n",
        "    funccnt = min(funccnt, Xtr.shape[1])\n",
        "    funcs = [np.,np.log, lambda x: np.power(x,2), lambda x: np.power(x,3), lambda x: np.power(x, 0.5), lambda x: np.power(x,1./3.)]\n",
        "    for _funccnt in range(funccnt):\n",
        "        for _seq in itertools.combinations(range(Xtr.shape[1]), _funccnt):\n",
        "            Xtr_ = np.copy(Xtr)\n",
        "            Xte_ = np.copy(Xte)\n",
        "            for _elem in _seq:\n",
        "                for _func in funcs:\n",
        "                    Xte_ = np.hstack([Xte_, _func(Xte_[:,_elem])])\n",
        "                    Xtr_ = np.hstack([Xtr_, _func(Xtr_[:,_elem])])\n",
        "            clas = sklearn.linear_model.LinearRegression(fit_intercept=True)\n",
        "            clas.fit(Xtr_, ytr[label_cls])\n",
        "            mapes.append([_seq, metric_mape(clas, Xte_, yte)])"
      ],
      "execution_count": null,
      "outputs": []
    },
    {
      "cell_type": "code",
      "metadata": {
        "id": "nePr-Vi7ck4D"
      },
      "source": [],
      "execution_count": null,
      "outputs": []
    },
    {
      "cell_type": "code",
      "metadata": {
        "id": "4tMc5_Lbck4D"
      },
      "source": [],
      "execution_count": null,
      "outputs": []
    },
    {
      "cell_type": "code",
      "metadata": {
        "id": "wk8PTWzhck4D"
      },
      "source": [],
      "execution_count": null,
      "outputs": []
    },
    {
      "cell_type": "code",
      "metadata": {
        "id": "qqO1r_SRck4D"
      },
      "source": [],
      "execution_count": null,
      "outputs": []
    },
    {
      "cell_type": "code",
      "metadata": {
        "id": "QWGEfHQxck4D"
      },
      "source": [],
      "execution_count": null,
      "outputs": []
    }
  ]
}